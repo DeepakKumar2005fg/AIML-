{
  "nbformat": 4,
  "nbformat_minor": 0,
  "metadata": {
    "colab": {
      "provenance": [],
      "authorship_tag": "ABX9TyPSK7sCsmdVfFHLetCFqTxx",
      "include_colab_link": true
    },
    "kernelspec": {
      "name": "python3",
      "display_name": "Python 3"
    },
    "language_info": {
      "name": "python"
    }
  },
  "cells": [
    {
      "cell_type": "markdown",
      "metadata": {
        "id": "view-in-github",
        "colab_type": "text"
      },
      "source": [
        "<a href=\"https://colab.research.google.com/github/DeepakKumar2005fg/AIML-/blob/main/untitled34.ipynb\" target=\"_parent\"><img src=\"https://colab.research.google.com/assets/colab-badge.svg\" alt=\"Open In Colab\"/></a>"
      ]
    },
    {
      "cell_type": "code",
      "execution_count": null,
      "metadata": {
        "colab": {
          "base_uri": "https://localhost:8080/"
        },
        "id": "zYA3-HzcbVND",
        "outputId": "53eff274-872d-4632-ff6d-45a057855f6b"
      },
      "outputs": [
        {
          "output_type": "stream",
          "name": "stdout",
          "text": [
            "0.5\n",
            "1.0\n",
            "1.0\n"
          ]
        }
      ],
      "source": [
        "from collections import defaultdict\n",
        "\n",
        "def build_bigram_model(text):\n",
        "    \"\"\"\n",
        "    Builds a bigram language model from a given text corpus.\n",
        "\n",
        "    Args:\n",
        "        text (str): The input text corpus.\n",
        "\n",
        "    Returns:\n",
        "        dict: A dictionary where keys are bigrams (tuples of two words) and values are their probabilities.\n",
        "    \"\"\"\n",
        "\n",
        "    words = text.lower().split()\n",
        "    bigram_counts = defaultdict(int)\n",
        "    word_counts = defaultdict(int)\n",
        "\n",
        "    for i in range(len(words) - 1):\n",
        "        bigram = (words[i], words[i+1])\n",
        "        bigram_counts[bigram] += 1\n",
        "        word_counts[words[i]] += 1\n",
        "\n",
        "    bigram_probs = {}\n",
        "    for bigram, count in bigram_counts.items():\n",
        "        word1, word2 = bigram\n",
        "        bigram_probs[bigram] = count / word_counts[word1]\n",
        "\n",
        "    return bigram_probs\n",
        "\n",
        "sample_text = \"The quick brown fox jumps over the lazy dog. This is a simple sentence.\"\n",
        "model = build_bigram_model(sample_text)\n",
        "\n",
        "# Print some bigram probabilities\n",
        "print(model[(\"the\", \"quick\")])\n",
        "print(model[(\"brown\", \"fox\")])\n",
        "print(model[(\"over\", \"the\")])"
      ]
    }
  ]
}