{
  "nbformat": 4,
  "nbformat_minor": 0,
  "metadata": {
    "colab": {
      "provenance": [],
      "authorship_tag": "ABX9TyOo61Iro+6lUZEF1/MRic9E",
      "include_colab_link": true
    },
    "kernelspec": {
      "name": "python3",
      "display_name": "Python 3"
    },
    "language_info": {
      "name": "python"
    }
  },
  "cells": [
    {
      "cell_type": "markdown",
      "metadata": {
        "id": "view-in-github",
        "colab_type": "text"
      },
      "source": [
        "<a href=\"https://colab.research.google.com/github/DeepakKumar2005fg/AIML-/blob/main/Untitled41.ipynb\" target=\"_parent\"><img src=\"https://colab.research.google.com/assets/colab-badge.svg\" alt=\"Open In Colab\"/></a>"
      ]
    },
    {
      "cell_type": "markdown",
      "source": [
        "Exercise 3: Create a MapReduce program to analyze weather data and determine the highest temperature recorded each year. Execute the program and validate the temperature outputs."
      ],
      "metadata": {
        "id": "9tvOQjGSnPMl"
      }
    },
    {
      "cell_type": "code",
      "source": [
        "from collections import defaultdict\n",
        "\n",
        "# Sample weather data: date and temperature\n",
        "weather_data = [\n",
        "    (\"19490101\", 34),\n",
        "    (\"19490102\", 32),\n",
        "    (\"19490201\", 45),\n",
        "    (\"19500101\", 50),\n",
        "    (\"19500102\", 48)\n",
        "]\n",
        "\n",
        "# Mapper\n",
        "def weather_mapper(data):\n",
        "    for date, temp in data:\n",
        "        year = date[:4]\n",
        "        yield year, temp\n",
        "\n",
        "# Reducer\n",
        "def weather_reducer(mapped_data):\n",
        "    max_temp_per_year = defaultdict(lambda: float('-inf'))\n",
        "    for year, temp in mapped_data:\n",
        "        if temp > max_temp_per_year[year]:\n",
        "            max_temp_per_year[year] = temp\n",
        "    return max_temp_per_year\n",
        "\n",
        "# Run MapReduce simulation\n",
        "mapped_weather = list(weather_mapper(weather_data))\n",
        "result_weather = weather_reducer(mapped_weather)\n",
        "\n",
        "# Output\n",
        "for year in sorted(result_weather):\n",
        "    print(f\"{year}: {result_weather[year]}\")"
      ],
      "metadata": {
        "colab": {
          "base_uri": "https://localhost:8080/"
        },
        "id": "iT3a4sL_nR96",
        "outputId": "8acca92c-7ded-4374-ab5f-71c33b56802d"
      },
      "execution_count": 6,
      "outputs": [
        {
          "output_type": "stream",
          "name": "stdout",
          "text": [
            "1949: 45\n",
            "1950: 50\n"
          ]
        }
      ]
    }
  ]
}