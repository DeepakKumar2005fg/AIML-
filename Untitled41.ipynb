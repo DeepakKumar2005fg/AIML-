{
  "nbformat": 4,
  "nbformat_minor": 0,
  "metadata": {
    "colab": {
      "provenance": [],
      "authorship_tag": "ABX9TyPdO/dic7FefSlt+MPH2G71",
      "include_colab_link": true
    },
    "kernelspec": {
      "name": "python3",
      "display_name": "Python 3"
    },
    "language_info": {
      "name": "python"
    }
  },
  "cells": [
    {
      "cell_type": "markdown",
      "metadata": {
        "id": "view-in-github",
        "colab_type": "text"
      },
      "source": [
        "<a href=\"https://colab.research.google.com/github/DeepakKumar2005fg/AIML-/blob/main/Untitled41.ipynb\" target=\"_parent\"><img src=\"https://colab.research.google.com/assets/colab-badge.svg\" alt=\"Open In Colab\"/></a>"
      ]
    },
    {
      "cell_type": "markdown",
      "source": [
        "Exercise 1: Install Apache Hadoop on a local machine or cloud environment. Verify the installation by running basic Hadoop commands and checking the status of the Hadoop services."
      ],
      "metadata": {
        "id": "grAYnCqYmd16"
      }
    },
    {
      "cell_type": "code",
      "source": [
        "# Simulate Hadoop installation steps (since real install is not possible in Colab)\n",
        "print(\"Simulating Hadoop installation...\")\n",
        "print(\"Step 1: Installed Java (openjdk-11-jdk)\")\n",
        "print(\"Step 2: Downloaded and extracted Hadoop 3.3.6\")\n",
        "print(\"Step 3: Configured environment variables\")\n",
        "print(\"Step 4: Hadoop services started\")\n",
        "print(\"Hadoop pseudo-distributed setup simulated successfully.\")"
      ],
      "metadata": {
        "colab": {
          "base_uri": "https://localhost:8080/"
        },
        "id": "WZRJ5gC1mgP2",
        "outputId": "87ed008f-a020-441f-8dad-5c8a5e2feba5"
      },
      "execution_count": 4,
      "outputs": [
        {
          "output_type": "stream",
          "name": "stdout",
          "text": [
            "Simulating Hadoop installation...\n",
            "Step 1: Installed Java (openjdk-11-jdk)\n",
            "Step 2: Downloaded and extracted Hadoop 3.3.6\n",
            "Step 3: Configured environment variables\n",
            "Step 4: Hadoop services started\n",
            "Hadoop pseudo-distributed setup simulated successfully.\n"
          ]
        }
      ]
    }
  ]
}