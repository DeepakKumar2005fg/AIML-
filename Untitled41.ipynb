{
  "nbformat": 4,
  "nbformat_minor": 0,
  "metadata": {
    "colab": {
      "provenance": [],
      "authorship_tag": "ABX9TyPXXpe3zBiHCkTeC9PJ1pkN",
      "include_colab_link": true
    },
    "kernelspec": {
      "name": "python3",
      "display_name": "Python 3"
    },
    "language_info": {
      "name": "python"
    }
  },
  "cells": [
    {
      "cell_type": "markdown",
      "metadata": {
        "id": "view-in-github",
        "colab_type": "text"
      },
      "source": [
        "<a href=\"https://colab.research.google.com/github/DeepakKumar2005fg/AIML-/blob/main/Untitled41.ipynb\" target=\"_parent\"><img src=\"https://colab.research.google.com/assets/colab-badge.svg\" alt=\"Open In Colab\"/></a>"
      ]
    },
    {
      "cell_type": "markdown",
      "source": [
        "Exercise 2: Develop a MapReduce program to calculate the frequency of a given word in a specified file. Run the program and verify the word count results."
      ],
      "metadata": {
        "id": "zke1oHbDnB9a"
      }
    },
    {
      "cell_type": "code",
      "source": [
        "from collections import defaultdict\n",
        "\n",
        "# Sample text input (as if read from a file)\n",
        "text = \"\"\"\n",
        "Hadoop is a framework that allows for the distributed processing of large data sets.\n",
        "Hadoop is open-source and powerful.\n",
        "\"\"\"\n",
        "\n",
        "# Mapper function\n",
        "def mapper(text):\n",
        "    for line in text.strip().split('\\n'):\n",
        "        for word in line.strip().split():\n",
        "            yield word.lower(), 1\n",
        "\n",
        "# Reducer function\n",
        "def reducer(pairs):\n",
        "    word_counts = defaultdict(int)\n",
        "    for word, count in pairs:\n",
        "        word_counts[word] += count\n",
        "    return word_counts\n",
        "\n",
        "# Run MapReduce simulation\n",
        "mapped = list(mapper(text))\n",
        "result = reducer(mapped)\n",
        "\n",
        "# Print word counts\n",
        "for word, count in sorted(result.items()):\n",
        "    print(f\"{word}: {count}\")"
      ],
      "metadata": {
        "id": "3RmrjTAVnEyj",
        "outputId": "2fcaa11f-4833-4f82-9f2b-16265e2e88e0",
        "colab": {
          "base_uri": "https://localhost:8080/"
        }
      },
      "execution_count": 5,
      "outputs": [
        {
          "output_type": "stream",
          "name": "stdout",
          "text": [
            "a: 1\n",
            "allows: 1\n",
            "and: 1\n",
            "data: 1\n",
            "distributed: 1\n",
            "for: 1\n",
            "framework: 1\n",
            "hadoop: 2\n",
            "is: 2\n",
            "large: 1\n",
            "of: 1\n",
            "open-source: 1\n",
            "powerful.: 1\n",
            "processing: 1\n",
            "sets.: 1\n",
            "that: 1\n",
            "the: 1\n"
          ]
        }
      ]
    }
  ]
}