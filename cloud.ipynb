{
  "nbformat": 4,
  "nbformat_minor": 0,
  "metadata": {
    "colab": {
      "provenance": [],
      "include_colab_link": true
    },
    "kernelspec": {
      "name": "python3",
      "display_name": "Python 3"
    },
    "language_info": {
      "name": "python"
    }
  },
  "cells": [
    {
      "cell_type": "markdown",
      "metadata": {
        "id": "view-in-github",
        "colab_type": "text"
      },
      "source": [
        "<a href=\"https://colab.research.google.com/github/DeepakKumar2005fg/AIML-/blob/main/cloud.ipynb\" target=\"_parent\"><img src=\"https://colab.research.google.com/assets/colab-badge.svg\" alt=\"Open In Colab\"/></a>"
      ]
    },
    {
      "cell_type": "code",
      "execution_count": null,
      "metadata": {
        "id": "isMJ80MiTfyr"
      },
      "outputs": [],
      "source": [
        "models = {\n",
        "    \"IAAS\": [\"EC2\", \"EBS\", \"VPC\"],\n",
        "    \"PAAS\": [\"Elastic Beanstalk\", \"Lambda\", \"App Runner\"],\n",
        "    \"SAAS\": [\"Google Workspace\", \"Dropbox\", \"Salesforce\"]\n",
        "}\n",
        "\n",
        "with open(\"cloud_service_models.txt\", \"w\") as file:\n",
        "    for model, examples in models.items():\n",
        "        file.write(f\"{model}: {', '.join(examples)}\\n\")"
      ]
    },
    {
      "cell_type": "code",
      "source": [
        "iam_users = {\n",
        "    \"Alice\": [\"AdminAccess\"],\n",
        "    \"Bob\": [\"ReadOnlyAccess\"],\n",
        "    \"Charlie\": [\"S3FullAccess\"]\n",
        "}\n",
        "\n",
        "with open(\"iam_users_policies.txt\", \"w\") as file:\n",
        "    for user, policies in iam_users.items():\n",
        "        file.write(f\"User: {user}, Policies: {', '.join(policies)}\\n\")\n"
      ],
      "metadata": {
        "id": "r0tXSfVYTxPv"
      },
      "execution_count": null,
      "outputs": []
    },
    {
      "cell_type": "code",
      "source": [
        "ec2_config = {\n",
        "    \"InstanceID\": \"i-1234567890abcdef\",\n",
        "    \"Type\": \"t2.micro\",\n",
        "    \"Region\": \"us-east-1\",\n",
        "    \"OS\": \"Amazon Linux 2\"\n",
        "}\n",
        "\n",
        "with open(\"ec2_config.txt\", \"w\") as file:\n",
        "    for key, value in ec2_config.items():\n",
        "        file.write(f\"{key}: {value}\\n\")\n"
      ],
      "metadata": {
        "id": "4N_kg5KCTxeq"
      },
      "execution_count": null,
      "outputs": []
    },
    {
      "cell_type": "code",
      "source": [
        "s3_logs = [\n",
        "    {\"Bucket\": \"mybucket1\", \"Object\": \"file1.txt\", \"Action\": \"Uploaded\"},\n",
        "    {\"Bucket\": \"mybucket2\", \"Object\": \"image.png\", \"Action\": \"Deleted\"}\n",
        "]\n",
        "\n",
        "with open(\"s3_logs.txt\", \"w\") as file:\n",
        "    for log in s3_logs:\n",
        "        file.write(f\"{log['Bucket']} - {log['Object']} - {log['Action']}\\n\")\n"
      ],
      "metadata": {
        "id": "xH-PTVOsTxhi"
      },
      "execution_count": null,
      "outputs": []
    },
    {
      "cell_type": "code",
      "source": [
        "metrics = [\n",
        "    {\"Metric\": \"CPUUtilization\", \"Value\": \"65%\", \"Time\": \"2025-05-11 10:00\"},\n",
        "    {\"Metric\": \"DiskReadOps\", \"Value\": \"230\", \"Time\": \"2025-05-11 10:05\"}\n",
        "]\n",
        "\n",
        "with open(\"cloudwatch_metrics.txt\", \"w\") as file:\n",
        "    for m in metrics:\n",
        "        file.write(f\"{m['Time']} - {m['Metric']}: {m['Value']}\\n\")\n"
      ],
      "metadata": {
        "id": "gYzxh_OOTxka"
      },
      "execution_count": null,
      "outputs": []
    },
    {
      "cell_type": "code",
      "source": [
        "sns_logs = [\n",
        "    {\"Topic\": \"OrderAlerts\", \"Message\": \"Order #123 shipped\"},\n",
        "    {\"Topic\": \"Billing\", \"Message\": \"Invoice #456 generated\"}\n",
        "]\n",
        "\n",
        "with open(\"sns_logs.txt\", \"w\") as file:\n",
        "    for log in sns_logs:\n",
        "        file.write(f\"Topic: {log['Topic']} - Message: {log['Message']}\\n\")\n"
      ],
      "metadata": {
        "id": "hA4JEkbrTxnR"
      },
      "execution_count": null,
      "outputs": []
    },
    {
      "cell_type": "code",
      "source": [
        "regions = {\n",
        "    \"us-east-1\": [\"us-east-1a\", \"us-east-1b\"],\n",
        "    \"ap-south-1\": [\"ap-south-1a\", \"ap-south-1b\"]\n",
        "}\n",
        "\n",
        "with open(\"regions_zones.txt\", \"w\") as file:\n",
        "    for region, zones in regions.items():\n",
        "        file.write(f\"{region}: {', '.join(zones)}\\n\")\n"
      ],
      "metadata": {
        "id": "gZUczDYfTxp6"
      },
      "execution_count": null,
      "outputs": []
    },
    {
      "cell_type": "code",
      "source": [
        "pricing = {\n",
        "    \"S3\": \"0.023 USD per GB\",\n",
        "    \"EBS\": \"0.10 USD per GB\",\n",
        "    \"Glacier\": \"0.004 USD per GB\"\n",
        "}\n",
        "\n",
        "with open(\"storage_pricing.txt\", \"w\") as file:\n",
        "    for service, price in pricing.items():\n",
        "        file.write(f\"{service}: {price}\\n\")\n"
      ],
      "metadata": {
        "id": "0-YYVaH7Txsx"
      },
      "execution_count": null,
      "outputs": []
    },
    {
      "cell_type": "code",
      "source": [
        "lambda_triggers = {\n",
        "    \"ImageResizer\": \"S3 Event\",\n",
        "\n",
        "    \"DataProcessor\": \"DynamoDB Stream\",\n",
        "    \"AlertSender\": \"CloudWatch Alarm\"\n",
        "}\n",
        "\n",
        "with open(\"lambda_triggers.txt\", \"w\") as file:\n",
        "    for func, trigger in lambda_triggers.items():\n",
        "        file.write(f\"Function: {func}, Trigger: {trigger}\\n\")\n"
      ],
      "metadata": {
        "id": "z60xh4CbTxwK"
      },
      "execution_count": null,
      "outputs": []
    },
    {
      "cell_type": "code",
      "source": [
        "asg_config = {\n",
        "    \"GroupName\": \"WebAppASG\",\n",
        "    \"MinSize\": 2,\n",
        "    \"MaxSize\": 10,\n",
        "    \"DesiredCapacity\": 5\n",
        "}\n",
        "\n",
        "with open(\"autoscaling_config.txt\", \"w\") as file:\n",
        "    for key, value in asg_config.items():\n",
        "        file.write(f\"{key}: {value}\\n\")\n"
      ],
      "metadata": {
        "id": "iBVp8OdeTyFD"
      },
      "execution_count": null,
      "outputs": []
    }
  ]
}