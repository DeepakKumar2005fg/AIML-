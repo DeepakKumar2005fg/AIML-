{
  "nbformat": 4,
  "nbformat_minor": 0,
  "metadata": {
    "colab": {
      "provenance": [],
      "authorship_tag": "ABX9TyO8FBClrxw2ms5bd/y+OrTs",
      "include_colab_link": true
    },
    "kernelspec": {
      "name": "python3",
      "display_name": "Python 3"
    },
    "language_info": {
      "name": "python"
    }
  },
  "cells": [
    {
      "cell_type": "markdown",
      "metadata": {
        "id": "view-in-github",
        "colab_type": "text"
      },
      "source": [
        "<a href=\"https://colab.research.google.com/github/DeepakKumar2005fg/AIML-/blob/main/Untitled8.ipynb\" target=\"_parent\"><img src=\"https://colab.research.google.com/assets/colab-badge.svg\" alt=\"Open In Colab\"/></a>"
      ]
    },
    {
      "cell_type": "code",
      "execution_count": 1,
      "metadata": {
        "colab": {
          "base_uri": "https://localhost:8080/"
        },
        "id": "okOAL92HQ04W",
        "outputId": "d0610d8c-1513-4646-ca35-9d7e6fbab3c2"
      },
      "outputs": [
        {
          "output_type": "stream",
          "name": "stdout",
          "text": [
            "Accuracy: 0.960\n",
            "Precision: 0.963\n",
            "Recall: 0.960\n",
            "F1-score: 0.960\n"
          ]
        }
      ],
      "source": [
        "import pandas as pd\n",
        "import numpy as np\n",
        "\n",
        "from sklearn.ensemble import RandomForestClassifier\n",
        "from sklearn.datasets import load_iris\n",
        "from sklearn.model_selection import cross_val_score, cross_validate\n",
        "from sklearn.metrics import make_scorer, accuracy_score, precision_score, recall_score, f1_score\n",
        "\n",
        "\n",
        "data = load_iris()\n",
        "X = data['data']\n",
        "y = data['target']\n",
        "\n",
        "\n",
        "model = RandomForestClassifier()\n",
        "\n",
        "\n",
        "scoring = {\n",
        "    'accuracy': make_scorer(accuracy_score),\n",
        "    'precision_macro': make_scorer(precision_score, average='macro'),\n",
        "    'recall_macro': make_scorer(recall_score, average='macro'),\n",
        "    'f1_macro': make_scorer(f1_score, average='macro')\n",
        "}\n",
        "\n",
        "cv_results = cross_validate(model, X, y, cv=5, scoring=scoring)\n",
        "\n",
        "\n",
        "print(f\"Accuracy: {np.mean(cv_results['test_accuracy']):.3f}\")\n",
        "print(f\"Precision: {np.mean(cv_results['test_precision_macro']):.3f}\")\n",
        "print(f\"Recall: {np.mean(cv_results['test_recall_macro']):.3f}\")\n",
        "print(f\"F1-score: {np.mean(cv_results['test_f1_macro']):.3f}\")"
      ]
    }
  ]
}