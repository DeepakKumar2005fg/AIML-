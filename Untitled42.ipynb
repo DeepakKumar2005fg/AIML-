{
  "nbformat": 4,
  "nbformat_minor": 0,
  "metadata": {
    "colab": {
      "provenance": [],
      "authorship_tag": "ABX9TyN6jXLmXxvURAIB6XJTlvsT",
      "include_colab_link": true
    },
    "kernelspec": {
      "name": "python3",
      "display_name": "Python 3"
    },
    "language_info": {
      "name": "python"
    }
  },
  "cells": [
    {
      "cell_type": "markdown",
      "metadata": {
        "id": "view-in-github",
        "colab_type": "text"
      },
      "source": [
        "<a href=\"https://colab.research.google.com/github/DeepakKumar2005fg/AIML-/blob/main/Untitled42.ipynb\" target=\"_parent\"><img src=\"https://colab.research.google.com/assets/colab-badge.svg\" alt=\"Open In Colab\"/></a>"
      ]
    },
    {
      "cell_type": "markdown",
      "source": [
        "Exercise 4: Write a MapReduce program to process student data and calculate grades based on predefined criteria. Run the program and verify the grade calculations."
      ],
      "metadata": {
        "id": "25spjDCKntpN"
      }
    },
    {
      "cell_type": "code",
      "source": [
        "from collections import defaultdict\n",
        "\n",
        "# Sample student data: (Name, Marks)\n",
        "student_data = [\n",
        "    (\"Alice\", 95),\n",
        "    (\"Bob\", 82),\n",
        "    (\"Charlie\", 76),\n",
        "    (\"David\", 64),\n",
        "    (\"Eve\", 55),\n",
        "    (\"Frank\", 89),\n",
        "    (\"Grace\", 92),\n",
        "    (\"Heidi\", 68)\n",
        "]\n",
        "\n",
        "# --- Mapper ---\n",
        "def grade_mapper(data):\n",
        "    for name, marks in data:\n",
        "        if marks >= 90:\n",
        "            grade = 'A'\n",
        "        elif marks >= 80:\n",
        "            grade = 'B'\n",
        "        elif marks >= 70:\n",
        "            grade = 'C'\n",
        "        elif marks >= 60:\n",
        "            grade = 'D'\n",
        "        else:\n",
        "            grade = 'F'\n",
        "        yield grade, name\n",
        "\n",
        "# --- Reducer (Group by Grades) ---\n",
        "def grade_reducer(mapped_data):\n",
        "    grade_groups = defaultdict(list)\n",
        "    for grade, name in mapped_data:\n",
        "        grade_groups[grade].append(name)\n",
        "    return grade_groups\n",
        "\n",
        "# Run MapReduce simulation\n",
        "mapped = list(grade_mapper(student_data))\n",
        "result = grade_reducer(mapped)\n",
        "\n",
        "# Output Grades\n",
        "for grade in sorted(result.keys(), reverse=True):\n",
        "    print(f\"Grade {grade}: {', '.join(result[grade])}\")"
      ],
      "metadata": {
        "colab": {
          "base_uri": "https://localhost:8080/"
        },
        "id": "45WnKfFDnwzS",
        "outputId": "743752b7-5208-47d3-9fb5-3f677b829bd6"
      },
      "execution_count": 1,
      "outputs": [
        {
          "output_type": "stream",
          "name": "stdout",
          "text": [
            "Grade F: Eve\n",
            "Grade D: David, Heidi\n",
            "Grade C: Charlie\n",
            "Grade B: Bob, Frank\n",
            "Grade A: Alice, Grace\n"
          ]
        }
      ]
    }
  ]
}