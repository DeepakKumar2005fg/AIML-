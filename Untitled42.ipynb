{
  "nbformat": 4,
  "nbformat_minor": 0,
  "metadata": {
    "colab": {
      "provenance": [],
      "authorship_tag": "ABX9TyPjEtGBBOGh0aFsKpb6hLce",
      "include_colab_link": true
    },
    "kernelspec": {
      "name": "python3",
      "display_name": "Python 3"
    },
    "language_info": {
      "name": "python"
    }
  },
  "cells": [
    {
      "cell_type": "markdown",
      "metadata": {
        "id": "view-in-github",
        "colab_type": "text"
      },
      "source": [
        "<a href=\"https://colab.research.google.com/github/DeepakKumar2005fg/AIML-/blob/main/Untitled42.ipynb\" target=\"_parent\"><img src=\"https://colab.research.google.com/assets/colab-badge.svg\" alt=\"Open In Colab\"/></a>"
      ]
    },
    {
      "cell_type": "markdown",
      "source": [
        "Exercise 9: Develop a MapReduce program to find the tags associated with each movie by analyzing the MovieLens dataset. Run the program and verify the tag associations."
      ],
      "metadata": {
        "id": "KCrD6kR4pk5A"
      }
    },
    {
      "cell_type": "code",
      "source": [
        "from collections import defaultdict\n",
        "\n",
        "# Sample MovieLens tag data: (UserID, MovieID, Tag, Timestamp)\n",
        "tags_data = [\n",
        "    (1, 101, \"Sci-Fi\", \"2023-06-01 10:00\"),\n",
        "    (2, 101, \"Space\", \"2023-06-01 11:00\"),\n",
        "    (3, 102, \"Action\", \"2023-06-02 09:30\"),\n",
        "    (4, 101, \"Future\", \"2023-06-02 10:15\"),\n",
        "    (5, 103, \"Romance\", \"2023-06-03 14:00\"),\n",
        "    (6, 102, \"Thriller\", \"2023-06-03 15:00\")\n",
        "]\n",
        "\n",
        "# --- Mapper ---\n",
        "def mapper(data):\n",
        "    for user_id, movie_id, tag, timestamp in data:\n",
        "        yield (movie_id, tag)\n",
        "\n",
        "# --- Reducer ---\n",
        "def reducer(mapped_data):\n",
        "    movie_tags = defaultdict(set)\n",
        "\n",
        "    for movie_id, tag in mapped_data:\n",
        "        movie_tags[movie_id].add(tag)\n",
        "\n",
        "    return movie_tags\n",
        "\n",
        "# Run MapReduce Simulation\n",
        "mapped = list(mapper(tags_data))\n",
        "result = reducer(mapped)\n",
        "\n",
        "# Output Result\n",
        "print(\"Tags Associated with Each Movie:\")\n",
        "for movie_id in sorted(result):\n",
        "    tags = ', '.join(sorted(result[movie_id]))\n",
        "    print(f\"MovieID {movie_id}: {tags}\")"
      ],
      "metadata": {
        "colab": {
          "base_uri": "https://localhost:8080/"
        },
        "id": "dsiE7pu5pl2c",
        "outputId": "c470cd87-246d-4cf5-8306-47c8557bc71e"
      },
      "execution_count": 6,
      "outputs": [
        {
          "output_type": "stream",
          "name": "stdout",
          "text": [
            "Tags Associated with Each Movie:\n",
            "MovieID 101: Future, Sci-Fi, Space\n",
            "MovieID 102: Action, Thriller\n",
            "MovieID 103: Romance\n"
          ]
        }
      ]
    }
  ]
}