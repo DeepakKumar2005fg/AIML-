{
  "nbformat": 4,
  "nbformat_minor": 0,
  "metadata": {
    "colab": {
      "provenance": [],
      "authorship_tag": "ABX9TyMspVU7vUc/0XGrH0IlmbgJ",
      "include_colab_link": true
    },
    "kernelspec": {
      "name": "python3",
      "display_name": "Python 3"
    },
    "language_info": {
      "name": "python"
    }
  },
  "cells": [
    {
      "cell_type": "markdown",
      "metadata": {
        "id": "view-in-github",
        "colab_type": "text"
      },
      "source": [
        "<a href=\"https://colab.research.google.com/github/DeepakKumar2005fg/AIML-/blob/main/Untitled42.ipynb\" target=\"_parent\"><img src=\"https://colab.research.google.com/assets/colab-badge.svg\" alt=\"Open In Colab\"/></a>"
      ]
    },
    {
      "cell_type": "markdown",
      "source": [
        "Exercise 5: Implement a MapReduce program to perform matrix multiplication. Execute the program and check the result of the matrix multiplication."
      ],
      "metadata": {
        "id": "2iAXHkNCn-9y"
      }
    },
    {
      "cell_type": "code",
      "source": [
        "from collections import defaultdict\n",
        "\n",
        "# Matrices A (2x3) and B (3x2)\n",
        "A = [\n",
        "    (0, 0, 1), (0, 1, 2), (0, 2, 3),\n",
        "    (1, 0, 4), (1, 1, 5), (1, 2, 6)\n",
        "]\n",
        "\n",
        "B = [\n",
        "    (0, 0, 7), (0, 1, 8),\n",
        "    (1, 0, 9), (1, 1, 10),\n",
        "    (2, 0, 11), (2, 1, 12)\n",
        "]\n",
        "\n",
        "# --- Mapper ---\n",
        "def mapper(A, B):\n",
        "    mapped_values = []\n",
        "\n",
        "    # Emit partial products for A\n",
        "    for i, k, val in A:\n",
        "        for j in range(2):  # Columns of B\n",
        "            mapped_values.append(((i, j), ('A', k, val)))\n",
        "\n",
        "    # Emit partial products for B\n",
        "    for k, j, val in B:\n",
        "        for i in range(2):  # Rows of A\n",
        "            mapped_values.append(((i, j), ('B', k, val)))\n",
        "\n",
        "    return mapped_values\n",
        "\n",
        "# --- Reducer ---\n",
        "def reducer(mapped_values):\n",
        "    result = defaultdict(lambda: {'A': {}, 'B': {}})\n",
        "\n",
        "    for (i, j), (matrix, k, val) in mapped_values:\n",
        "        result[(i, j)][matrix][k] = val\n",
        "\n",
        "    C = {}\n",
        "    for (i, j), matrices in result.items():\n",
        "        total = 0\n",
        "        for k in matrices['A']:\n",
        "            if k in matrices['B']:\n",
        "                total += matrices['A'][k] * matrices['B'][k]\n",
        "        C[(i, j)] = total\n",
        "\n",
        "    return C\n",
        "\n",
        "# Run MapReduce simulation\n",
        "mapped = mapper(A, B)\n",
        "C = reducer(mapped)\n",
        "\n",
        "# Display Result Matrix C\n",
        "print(\"Result of Matrix Multiplication (C = A x B):\")\n",
        "rows, cols = 2, 2\n",
        "for i in range(rows):\n",
        "    row = [str(C[(i, j)]) for j in range(cols)]\n",
        "    print(' '.join(row))"
      ],
      "metadata": {
        "id": "CTx6a1E-n_z-",
        "outputId": "78b836f8-789a-4e74-c4b9-e2c1bf3a85dc",
        "colab": {
          "base_uri": "https://localhost:8080/"
        }
      },
      "execution_count": 2,
      "outputs": [
        {
          "output_type": "stream",
          "name": "stdout",
          "text": [
            "Result of Matrix Multiplication (C = A x B):\n",
            "58 64\n",
            "139 154\n"
          ]
        }
      ]
    }
  ]
}