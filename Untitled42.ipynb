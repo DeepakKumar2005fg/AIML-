{
  "nbformat": 4,
  "nbformat_minor": 0,
  "metadata": {
    "colab": {
      "provenance": [],
      "authorship_tag": "ABX9TyM5SXN5gSUSzIk/qB4iHok3",
      "include_colab_link": true
    },
    "kernelspec": {
      "name": "python3",
      "display_name": "Python 3"
    },
    "language_info": {
      "name": "python"
    }
  },
  "cells": [
    {
      "cell_type": "markdown",
      "metadata": {
        "id": "view-in-github",
        "colab_type": "text"
      },
      "source": [
        "<a href=\"https://colab.research.google.com/github/DeepakKumar2005fg/AIML-/blob/main/Untitled42.ipynb\" target=\"_parent\"><img src=\"https://colab.research.google.com/assets/colab-badge.svg\" alt=\"Open In Colab\"/></a>"
      ]
    },
    {
      "cell_type": "markdown",
      "source": [
        "Exercise 6: Develop a MapReduce program to find the maximum electrical consumption for each year, given monthly consumption data. Run the program and analyze the maximum consumption results."
      ],
      "metadata": {
        "id": "X5zjZ1DJomph"
      }
    },
    {
      "cell_type": "code",
      "source": [
        "from collections import defaultdict\n",
        "\n",
        "# Sample monthly electrical consumption data: (Year, Month, Consumption)\n",
        "consumption_data = [\n",
        "    (2020, 'Jan', 350),\n",
        "    (2020, 'Feb', 420),\n",
        "    (2020, 'Mar', 400),\n",
        "    (2021, 'Jan', 500),\n",
        "    (2021, 'Feb', 480),\n",
        "    (2021, 'Mar', 510),\n",
        "    (2022, 'Jan', 550),\n",
        "    (2022, 'Feb', 530),\n",
        "    (2022, 'Mar', 540)\n",
        "]\n",
        "\n",
        "# --- Mapper ---\n",
        "def mapper(data):\n",
        "    for year, month, consumption in data:\n",
        "        yield (year, consumption)\n",
        "\n",
        "# --- Reducer ---\n",
        "def reducer(mapped_data):\n",
        "    max_consumption_per_year = defaultdict(lambda: float('-inf'))\n",
        "\n",
        "    for year, consumption in mapped_data:\n",
        "        if consumption > max_consumption_per_year[year]:\n",
        "            max_consumption_per_year[year] = consumption\n",
        "\n",
        "    return max_consumption_per_year\n",
        "\n",
        "# Run MapReduce simulation\n",
        "mapped = list(mapper(consumption_data))\n",
        "result = reducer(mapped)\n",
        "\n",
        "# Output results\n",
        "print(\"Maximum Electrical Consumption per Year:\")\n",
        "for year in sorted(result):\n",
        "    print(f\"{year}: {result[year]} kWh\")"
      ],
      "metadata": {
        "id": "zeW1wqWxoqeo",
        "outputId": "41842795-2ba4-4e1a-9716-4dfba4a9ae48",
        "colab": {
          "base_uri": "https://localhost:8080/"
        }
      },
      "execution_count": 3,
      "outputs": [
        {
          "output_type": "stream",
          "name": "stdout",
          "text": [
            "Maximum Electrical Consumption per Year:\n",
            "2020: 420 kWh\n",
            "2021: 510 kWh\n",
            "2022: 550 kWh\n"
          ]
        }
      ]
    }
  ]
}