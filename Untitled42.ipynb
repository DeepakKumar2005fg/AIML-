{
  "nbformat": 4,
  "nbformat_minor": 0,
  "metadata": {
    "colab": {
      "provenance": [],
      "authorship_tag": "ABX9TyOzpgmPGKgQIuJuzYbUQ4Mp",
      "include_colab_link": true
    },
    "kernelspec": {
      "name": "python3",
      "display_name": "Python 3"
    },
    "language_info": {
      "name": "python"
    }
  },
  "cells": [
    {
      "cell_type": "markdown",
      "metadata": {
        "id": "view-in-github",
        "colab_type": "text"
      },
      "source": [
        "<a href=\"https://colab.research.google.com/github/DeepakKumar2005fg/AIML-/blob/main/Untitled42.ipynb\" target=\"_parent\"><img src=\"https://colab.research.google.com/assets/colab-badge.svg\" alt=\"Open In Colab\"/></a>"
      ]
    },
    {
      "cell_type": "markdown",
      "source": [
        "Exercise 8: Write a MapReduce program to find the number of products sold in each country using sales data with various fields. Execute the program and review the sales data analysis."
      ],
      "metadata": {
        "id": "O4rB-7MipZRI"
      }
    },
    {
      "cell_type": "code",
      "source": [
        "from collections import defaultdict\n",
        "\n",
        "# Sample sales data: (OrderID, Product, Country)\n",
        "sales_data = [\n",
        "    (1, \"Laptop\", \"USA\"),\n",
        "    (2, \"Smartphone\", \"India\"),\n",
        "    (3, \"Laptop\", \"USA\"),\n",
        "    (4, \"Tablet\", \"UK\"),\n",
        "    (5, \"Smartphone\", \"India\"),\n",
        "    (6, \"Laptop\", \"UK\"),\n",
        "    (7, \"Smartphone\", \"India\"),\n",
        "    (8, \"Tablet\", \"USA\")\n",
        "]\n",
        "\n",
        "# --- Mapper ---\n",
        "def mapper(data):\n",
        "    for order_id, product, country in data:\n",
        "        yield (country, 1)  # Emit (Country, 1)\n",
        "\n",
        "# --- Reducer ---\n",
        "def reducer(mapped_data):\n",
        "    country_sales_count = defaultdict(int)\n",
        "\n",
        "    for country, count in mapped_data:\n",
        "        country_sales_count[country] += count\n",
        "\n",
        "    return country_sales_count\n",
        "\n",
        "# Run MapReduce Simulation\n",
        "mapped = list(mapper(sales_data))\n",
        "result = reducer(mapped)\n",
        "\n",
        "# Output Result\n",
        "print(\"Number of Products Sold per Country:\")\n",
        "for country in sorted(result):\n",
        "    print(f\"{country}: {result[country]} products\")"
      ],
      "metadata": {
        "id": "vytlmihIpa2u",
        "outputId": "04f75cb7-0d79-4e98-d180-277cbceb9f30",
        "colab": {
          "base_uri": "https://localhost:8080/"
        }
      },
      "execution_count": 5,
      "outputs": [
        {
          "output_type": "stream",
          "name": "stdout",
          "text": [
            "Number of Products Sold per Country:\n",
            "India: 3 products\n",
            "UK: 2 products\n",
            "USA: 3 products\n"
          ]
        }
      ]
    }
  ]
}