{
  "nbformat": 4,
  "nbformat_minor": 0,
  "metadata": {
    "colab": {
      "provenance": [],
      "authorship_tag": "ABX9TyNOvG4KqIHutUjwM8Bn7vv/",
      "include_colab_link": true
    },
    "kernelspec": {
      "name": "python3",
      "display_name": "Python 3"
    },
    "language_info": {
      "name": "python"
    }
  },
  "cells": [
    {
      "cell_type": "markdown",
      "metadata": {
        "id": "view-in-github",
        "colab_type": "text"
      },
      "source": [
        "<a href=\"https://colab.research.google.com/github/DeepakKumar2005fg/AIML-/blob/main/Untitled42.ipynb\" target=\"_parent\"><img src=\"https://colab.research.google.com/assets/colab-badge.svg\" alt=\"Open In Colab\"/></a>"
      ]
    },
    {
      "cell_type": "markdown",
      "source": [
        "Exercise 10: Implement a MapReduce program to: Count the number of unique listeners. Determine how often tracks were shared. Calculate how many times tracks were listened to on the radio. Find the total number of times tracks were listened to. Determine how often tracks were skipped on the radio. Run the program and analyze the listening data."
      ],
      "metadata": {
        "id": "KRQpkRVjpx4w"
      }
    },
    {
      "cell_type": "code",
      "source": [
        "from collections import defaultdict\n",
        "\n",
        "# Sample listening data: (UserID, TrackID, Action, Count)\n",
        "listening_data = [\n",
        "    (1, 201, \"Listen\", 5),\n",
        "    (2, 202, \"Listen\", 3),\n",
        "    (1, 202, \"RadioListen\", 7),\n",
        "    (3, 201, \"RadioListen\", 4),\n",
        "    (2, 201, \"Share\", 2),\n",
        "    (4, 203, \"Listen\", 6),\n",
        "    (3, 203, \"SkipOnRadio\", 1),\n",
        "    (1, 202, \"Share\", 1),\n",
        "    (2, 203, \"RadioListen\", 3),\n",
        "    (4, 202, \"SkipOnRadio\", 2)\n",
        "]\n",
        "\n",
        "# --- Mapper ---\n",
        "def mapper(data):\n",
        "    for user_id, track_id, action, count in data:\n",
        "        yield (\"unique_listeners\", user_id)\n",
        "        yield ((\"total_listens\", track_id), count)\n",
        "\n",
        "        if action == \"Share\":\n",
        "            yield ((\"track_shared\", track_id), count)\n",
        "        if action == \"RadioListen\":\n",
        "            yield ((\"radio_listen\", track_id), count)\n",
        "        if action == \"SkipOnRadio\":\n",
        "            yield ((\"skip_on_radio\", track_id), count)\n",
        "\n",
        "# --- Reducer ---\n",
        "def reducer(mapped_data):\n",
        "    unique_users = set()\n",
        "    total_listens = defaultdict(int)\n",
        "    track_shared = defaultdict(int)\n",
        "    radio_listen = defaultdict(int)\n",
        "    skip_on_radio = defaultdict(int)\n",
        "\n",
        "    for key, value in mapped_data:\n",
        "        if key == \"unique_listeners\":\n",
        "            unique_users.add(value)\n",
        "        elif key[0] == \"total_listens\":\n",
        "            total_listens[key[1]] += value\n",
        "        elif key[0] == \"track_shared\":\n",
        "            track_shared[key[1]] += value\n",
        "        elif key[0] == \"radio_listen\":\n",
        "            radio_listen[key[1]] += value\n",
        "        elif key[0] == \"skip_on_radio\":\n",
        "            skip_on_radio[key[1]] += value\n",
        "\n",
        "    return unique_users, total_listens, track_shared, radio_listen, skip_on_radio\n",
        "\n",
        "# Run MapReduce Simulation\n",
        "mapped = list(mapper(listening_data))\n",
        "unique_users, total_listens, track_shared, radio_listen, skip_on_radio = reducer(mapped)\n",
        "\n",
        "# --- Output Results ---\n",
        "print(f\"1. Unique Listeners: {len(unique_users)}\\n\")\n",
        "\n",
        "print(\"2. Tracks Shared:\")\n",
        "for track_id, count in track_shared.items():\n",
        "    print(f\"Track {track_id}: {count} times\")\n",
        "\n",
        "print(\"\\n3. Tracks Listened to on Radio:\")\n",
        "for track_id, count in radio_listen.items():\n",
        "    print(f\"Track {track_id}: {count} times\")\n",
        "\n",
        "print(\"\\n4. Total Listens per Track:\")\n",
        "for track_id, count in total_listens.items():\n",
        "    print(f\"Track {track_id}: {count} total listens\")\n",
        "\n",
        "print(\"\\n5. Tracks Skipped on Radio:\")\n",
        "for track_id, count in skip_on_radio.items():\n",
        "    print(f\"Track {track_id}: {count} skips on radio\")"
      ],
      "metadata": {
        "colab": {
          "base_uri": "https://localhost:8080/"
        },
        "id": "KpaH8bJypyvA",
        "outputId": "1a78c56c-e191-474f-d756-d73d48ef14b7"
      },
      "execution_count": 7,
      "outputs": [
        {
          "output_type": "stream",
          "name": "stdout",
          "text": [
            "1. Unique Listeners: 4\n",
            "\n",
            "2. Tracks Shared:\n",
            "Track 201: 2 times\n",
            "Track 202: 1 times\n",
            "\n",
            "3. Tracks Listened to on Radio:\n",
            "Track 202: 7 times\n",
            "Track 201: 4 times\n",
            "Track 203: 3 times\n",
            "\n",
            "4. Total Listens per Track:\n",
            "Track 201: 11 total listens\n",
            "Track 202: 13 total listens\n",
            "Track 203: 10 total listens\n",
            "\n",
            "5. Tracks Skipped on Radio:\n",
            "Track 203: 1 skips on radio\n",
            "Track 202: 2 skips on radio\n"
          ]
        }
      ]
    }
  ]
}