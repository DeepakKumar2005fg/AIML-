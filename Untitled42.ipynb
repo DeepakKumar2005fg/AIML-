{
  "nbformat": 4,
  "nbformat_minor": 0,
  "metadata": {
    "colab": {
      "provenance": [],
      "authorship_tag": "ABX9TyMTMzjNwjuEApXh9VWuAdMa",
      "include_colab_link": true
    },
    "kernelspec": {
      "name": "python3",
      "display_name": "Python 3"
    },
    "language_info": {
      "name": "python"
    }
  },
  "cells": [
    {
      "cell_type": "markdown",
      "metadata": {
        "id": "view-in-github",
        "colab_type": "text"
      },
      "source": [
        "<a href=\"https://colab.research.google.com/github/DeepakKumar2005fg/AIML-/blob/main/Untitled42.ipynb\" target=\"_parent\"><img src=\"https://colab.research.google.com/assets/colab-badge.svg\" alt=\"Open In Colab\"/></a>"
      ]
    },
    {
      "cell_type": "markdown",
      "source": [
        "Exercise 7: Create a MapReduce program to analyze weather data and categorize each day as \"shiny\" or \"cool.\" Run the program and validate the categorization results."
      ],
      "metadata": {
        "id": "ZCv4fi6ao5UR"
      }
    },
    {
      "cell_type": "code",
      "source": [
        "from collections import defaultdict\n",
        "\n",
        "# Sample weather data: (Date, Temperature)\n",
        "weather_data = [\n",
        "    (\"2023-06-01\", 30),\n",
        "    (\"2023-06-02\", 22),\n",
        "    (\"2023-06-03\", 28),\n",
        "    (\"2023-06-04\", 18),\n",
        "    (\"2023-06-05\", 26)\n",
        "]\n",
        "\n",
        "# --- Mapper ---\n",
        "def mapper(data):\n",
        "    for date, temp in data:\n",
        "        category = \"Shiny\" if temp >= 25 else \"Cool\"\n",
        "        yield (category, date)\n",
        "\n",
        "# --- Reducer (Grouping by Category) ---\n",
        "def reducer(mapped_data):\n",
        "    category_groups = defaultdict(list)\n",
        "    for category, date in mapped_data:\n",
        "        category_groups[category].append(date)\n",
        "    return category_groups\n",
        "\n",
        "# Run MapReduce Simulation\n",
        "mapped = list(mapper(weather_data))\n",
        "result = reducer(mapped)\n",
        "\n",
        "# Output the categorized days\n",
        "print(\"Weather Categorization Results:\")\n",
        "for category in sorted(result):\n",
        "    print(f\"{category} Days: {', '.join(result[category])}\")"
      ],
      "metadata": {
        "colab": {
          "base_uri": "https://localhost:8080/"
        },
        "id": "zatIyObco7MR",
        "outputId": "9adfacc7-95e7-4bbc-8bc3-fca48c9f634e"
      },
      "execution_count": 4,
      "outputs": [
        {
          "output_type": "stream",
          "name": "stdout",
          "text": [
            "Weather Categorization Results:\n",
            "Cool Days: 2023-06-02, 2023-06-04\n",
            "Shiny Days: 2023-06-01, 2023-06-03, 2023-06-05\n"
          ]
        }
      ]
    }
  ]
}