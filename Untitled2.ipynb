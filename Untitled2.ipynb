{
  "nbformat": 4,
  "nbformat_minor": 0,
  "metadata": {
    "colab": {
      "provenance": [],
      "authorship_tag": "ABX9TyOj0pUypuBCE6f9As3YbPzm",
      "include_colab_link": true
    },
    "kernelspec": {
      "name": "python3",
      "display_name": "Python 3"
    },
    "language_info": {
      "name": "python"
    }
  },
  "cells": [
    {
      "cell_type": "markdown",
      "metadata": {
        "id": "view-in-github",
        "colab_type": "text"
      },
      "source": [
        "<a href=\"https://colab.research.google.com/github/DeepakKumar2005fg/AIML-/blob/main/Untitled2.ipynb\" target=\"_parent\"><img src=\"https://colab.research.google.com/assets/colab-badge.svg\" alt=\"Open In Colab\"/></a>"
      ]
    },
    {
      "cell_type": "code",
      "execution_count": 2,
      "metadata": {
        "colab": {
          "base_uri": "https://localhost:8080/"
        },
        "id": "7m4NhoQgIY8P",
        "outputId": "c1bb977e-906d-47cc-ec8f-f951d714d8d1"
      },
      "outputs": [
        {
          "output_type": "stream",
          "name": "stdout",
          "text": [
            "   o_ring_ct  distress_ct  temperature  pressure  launch_id\n",
            "0          6            0           66        50          1\n",
            "1          6            1           70        50          2\n",
            "2          6            0           69        50          3\n",
            "3          6            0           68        50          4\n",
            "4          6            0           67        50          5\n",
            "<class 'pandas.core.frame.DataFrame'>\n",
            "RangeIndex: 23 entries, 0 to 22\n",
            "Data columns (total 5 columns):\n",
            " #   Column       Non-Null Count  Dtype\n",
            "---  ------       --------------  -----\n",
            " 0   o_ring_ct    23 non-null     int64\n",
            " 1   distress_ct  23 non-null     int64\n",
            " 2   temperature  23 non-null     int64\n",
            " 3   pressure     23 non-null     int64\n",
            " 4   launch_id    23 non-null     int64\n",
            "dtypes: int64(5)\n",
            "memory usage: 1.0 KB\n",
            "None\n",
            "o_ring_ct      0\n",
            "distress_ct    0\n",
            "temperature    0\n",
            "pressure       0\n",
            "launch_id      0\n",
            "dtype: int64\n",
            "   o_ring_ct  distress_ct  temperature  pressure  launch_id  \\\n",
            "0          6            0           66        50          1   \n",
            "1          6            1           70        50          2   \n",
            "2          6            0           69        50          3   \n",
            "3          6            0           68        50          4   \n",
            "4          6            0           67        50          5   \n",
            "\n",
            "                    date_column category_column  normalized_column  \n",
            "0 1970-01-01 00:00:00.000000066              50           0.222222  \n",
            "1 1970-01-01 00:00:00.000000070              50           0.185185  \n",
            "2 1970-01-01 00:00:00.000000069              50           0.222222  \n",
            "3 1970-01-01 00:00:00.000000068              50           0.222222  \n",
            "4 1970-01-01 00:00:00.000000067              50           0.222222  \n"
          ]
        }
      ],
      "source": [
        "import pandas as pd\n",
        "import numpy as np\n",
        "\n",
        "\n",
        "df = pd.read_csv('/content/challenger.csv')\n",
        "\n",
        "\n",
        "print(df.head())\n",
        "print(df.info())\n",
        "print(df.isnull().sum())\n",
        "\n",
        "\n",
        "df.dropna(inplace=True)\n",
        "\n",
        "\n",
        "df['date_column'] = pd.to_datetime(df['temperature'])\n",
        "df['category_column'] = df['pressure'].astype('category')\n",
        "\n",
        "\n",
        "df['normalized_column'] = (df['distress_ct'] - df['o_ring_ct'].min()) / (df['launch_id'].max() - df['pressure'].min())\n",
        "\n",
        "\n",
        "print(df.head())"
      ]
    }
  ]
}