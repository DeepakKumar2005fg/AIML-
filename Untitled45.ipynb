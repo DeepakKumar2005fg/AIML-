{
  "nbformat": 4,
  "nbformat_minor": 0,
  "metadata": {
    "colab": {
      "provenance": [],
      "authorship_tag": "ABX9TyPYldg4Q+CdZGyNHL1Ykkb5",
      "include_colab_link": true
    },
    "kernelspec": {
      "name": "python3",
      "display_name": "Python 3"
    },
    "language_info": {
      "name": "python"
    }
  },
  "cells": [
    {
      "cell_type": "markdown",
      "metadata": {
        "id": "view-in-github",
        "colab_type": "text"
      },
      "source": [
        "<a href=\"https://colab.research.google.com/github/DeepakKumar2005fg/AIML-/blob/main/Untitled45.ipynb\" target=\"_parent\"><img src=\"https://colab.research.google.com/assets/colab-badge.svg\" alt=\"Open In Colab\"/></a>"
      ]
    },
    {
      "cell_type": "code",
      "execution_count": 1,
      "metadata": {
        "colab": {
          "base_uri": "https://localhost:8080/"
        },
        "id": "BtxGNk3auS_H",
        "outputId": "6fbf5f06-21e6-44d4-a6c0-8bf6c618719b"
      },
      "outputs": [
        {
          "output_type": "stream",
          "name": "stderr",
          "text": [
            "[nltk_data] Downloading package wordnet to /root/nltk_data...\n",
            "[nltk_data] Downloading package omw-1.4 to /root/nltk_data...\n"
          ]
        },
        {
          "output_type": "stream",
          "name": "stdout",
          "text": [
            "Enter a word: Vikram\n",
            "\n",
            "Synonyms of 'Vikram':\n",
            "No synonyms found.\n",
            "\n",
            "Antonyms of 'Vikram':\n",
            "No antonyms found.\n"
          ]
        }
      ],
      "source": [
        "import nltk\n",
        "from nltk.corpus import wordnet\n",
        "\n",
        "# Ensure the WordNet corpus is downloaded\n",
        "nltk.download('wordnet')\n",
        "nltk.download('omw-1.4')\n",
        "\n",
        "def get_synonyms_antonyms(word):\n",
        "    synonyms = set()\n",
        "    antonyms = set()\n",
        "\n",
        "    for syn in wordnet.synsets(word):\n",
        "        for lemma in syn.lemmas():\n",
        "            synonyms.add(lemma.name())\n",
        "            if lemma.antonyms():\n",
        "                for ant in lemma.antonyms():\n",
        "                    antonyms.add(ant.name())\n",
        "\n",
        "    return synonyms, antonyms\n",
        "\n",
        "# Example usage\n",
        "if __name__ == \"__main__\":\n",
        "    word = input(\"Enter a word: \").strip()\n",
        "    synonyms, antonyms = get_synonyms_antonyms(word)\n",
        "\n",
        "    print(f\"\\nSynonyms of '{word}':\")\n",
        "    print(\", \".join(synonyms) if synonyms else \"No synonyms found.\")\n",
        "\n",
        "    print(f\"\\nAntonyms of '{word}':\")\n",
        "    print(\", \".join(antonyms) if antonyms else \"No antonyms found.\")"
      ]
    }
  ]
}