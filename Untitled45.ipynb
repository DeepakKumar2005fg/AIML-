{
  "nbformat": 4,
  "nbformat_minor": 0,
  "metadata": {
    "colab": {
      "provenance": [],
      "authorship_tag": "ABX9TyNmkzlAfNGtbh4poIdrk6sn",
      "include_colab_link": true
    },
    "kernelspec": {
      "name": "python3",
      "display_name": "Python 3"
    },
    "language_info": {
      "name": "python"
    }
  },
  "cells": [
    {
      "cell_type": "markdown",
      "metadata": {
        "id": "view-in-github",
        "colab_type": "text"
      },
      "source": [
        "<a href=\"https://colab.research.google.com/github/DeepakKumar2005fg/AIML-/blob/main/Untitled45.ipynb\" target=\"_parent\"><img src=\"https://colab.research.google.com/assets/colab-badge.svg\" alt=\"Open In Colab\"/></a>"
      ]
    },
    {
      "cell_type": "code",
      "source": [
        "import nltk\n",
        "from nltk.stem import PorterStemmer\n",
        "from nltk.corpus import wordnet\n",
        "\n",
        "# Download required data\n",
        "nltk.download('wordnet')\n",
        "nltk.download('omw-1.4')\n",
        "\n",
        "# Initialize stemmer\n",
        "stemmer = PorterStemmer()\n",
        "\n",
        "# Common English prefixes and suffixes\n",
        "PREFIXES = ['un', 're', 'in', 'im', 'dis', 'en', 'em', 'non', 'over', 'mis', 'sub', 'pre', 'inter', 'fore', 'de', 'trans', 'super', 'semi', 'anti', 'mid', 'under']\n",
        "SUFFIXES = ['ing', 'ed', 'ly', 's', 'es', 'ment', 'ness', 'less', 'ful', 'able', 'ible', 'tion', 'ation', 'al', 'ive', 'ous', 'en', 'ize', 'ise', 'er', 'est']\n",
        "\n",
        "def is_valid_word(word):\n",
        "    \"\"\"Check if a word exists in WordNet.\"\"\"\n",
        "    return bool(wordnet.synsets(word))\n",
        "\n",
        "def analyze_word(word):\n",
        "    word = word.lower()\n",
        "    root = stemmer.stem(word)\n",
        "\n",
        "    detected_prefix = ''\n",
        "    detected_suffix = ''\n",
        "\n",
        "    for prefix in PREFIXES:\n",
        "        if word.startswith(prefix):\n",
        "            possible_stem = word[len(prefix):]\n",
        "            if is_valid_word(possible_stem):\n",
        "                detected_prefix = prefix\n",
        "                word = possible_stem\n",
        "                break\n",
        "\n",
        "    for suffix in SUFFIXES:\n",
        "        if word.endswith(suffix):\n",
        "            possible_stem = word[:-len(suffix)]\n",
        "            if is_valid_word(possible_stem):\n",
        "                detected_suffix = suffix\n",
        "                word = possible_stem\n",
        "                break\n",
        "\n",
        "    return {\n",
        "        'original_word': word,\n",
        "        'root': stemmer.stem(word),\n",
        "        'prefix': detected_prefix,\n",
        "        'suffix': detected_suffix\n",
        "    }\n",
        "\n",
        "# Example usage\n",
        "if __name__ == \"__main__\":\n",
        "    input_word = input(\"Enter a word to analyze: \").strip()\n",
        "    result = analyze_word(input_word)\n",
        "\n",
        "    print(\"\\nMorphological Analysis:\")\n",
        "    print(f\"Original Word: {input_word}\")\n",
        "    print(f\"Detected Prefix: {result['prefix'] if result['prefix'] else 'None'}\")\n",
        "    print(f\"Detected Root: {result['root']}\")\n",
        "    print(f\"Detected Suffix: {result['suffix'] if result['suffix'] else 'None'}\")"
      ],
      "metadata": {
        "colab": {
          "base_uri": "https://localhost:8080/"
        },
        "id": "nrVYBJKYut_-",
        "outputId": "03896c66-6a6c-4321-a427-10f342bdd2d2"
      },
      "execution_count": 2,
      "outputs": [
        {
          "output_type": "stream",
          "name": "stderr",
          "text": [
            "[nltk_data] Downloading package wordnet to /root/nltk_data...\n",
            "[nltk_data]   Package wordnet is already up-to-date!\n",
            "[nltk_data] Downloading package omw-1.4 to /root/nltk_data...\n",
            "[nltk_data]   Package omw-1.4 is already up-to-date!\n"
          ]
        },
        {
          "output_type": "stream",
          "name": "stdout",
          "text": [
            "Enter a word to analyze: Nlp\n",
            "\n",
            "Morphological Analysis:\n",
            "Original Word: Nlp\n",
            "Detected Prefix: None\n",
            "Detected Root: nlp\n",
            "Detected Suffix: None\n"
          ]
        }
      ]
    }
  ]
}