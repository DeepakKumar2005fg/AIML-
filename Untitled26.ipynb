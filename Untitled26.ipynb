{
  "nbformat": 4,
  "nbformat_minor": 0,
  "metadata": {
    "colab": {
      "provenance": [],
      "authorship_tag": "ABX9TyPaulqA/UlBg25IrTn3T8/t",
      "include_colab_link": true
    },
    "kernelspec": {
      "name": "python3",
      "display_name": "Python 3"
    },
    "language_info": {
      "name": "python"
    }
  },
  "cells": [
    {
      "cell_type": "markdown",
      "metadata": {
        "id": "view-in-github",
        "colab_type": "text"
      },
      "source": [
        "<a href=\"https://colab.research.google.com/github/DeepakKumar2005fg/AIML-/blob/main/Untitled26.ipynb\" target=\"_parent\"><img src=\"https://colab.research.google.com/assets/colab-badge.svg\" alt=\"Open In Colab\"/></a>"
      ]
    },
    {
      "cell_type": "code",
      "execution_count": 1,
      "metadata": {
        "colab": {
          "base_uri": "https://localhost:8080/"
        },
        "id": "hWlGoqDI1sER",
        "outputId": "09e3eea0-fc4d-4129-fc2a-bd41ae39f180"
      },
      "outputs": [
        {
          "output_type": "stream",
          "name": "stdout",
          "text": [
            "(S (NP (Det the) (N dog)) (VP (V chases) (NP (Det the) (N cat))))\n"
          ]
        }
      ],
      "source": [
        "import nltk\n",
        "from nltk.parse.generate import generate\n",
        "\n",
        "\n",
        "grammar = nltk.CFG.fromstring(\"\"\"\n",
        "S -> NP VP\n",
        "NP -> Det N\n",
        "VP -> V NP\n",
        "Det -> 'the' | 'a'\n",
        "N -> 'dog' | 'cat'\n",
        "V -> 'chases' | 'runs'\n",
        "\"\"\")\n",
        "\n",
        "\n",
        "parser = nltk.ChartParser(grammar)\n",
        "sentence = \"the dog chases the cat\"\n",
        "trees = parser.parse(sentence.split())\n",
        "\n",
        "for tree in trees:\n",
        "    print(tree)"
      ]
    }
  ]
}